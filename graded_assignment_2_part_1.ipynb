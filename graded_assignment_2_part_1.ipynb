{
 "cells": [
  {
   "cell_type": "markdown",
   "metadata": {},
   "source": [
    "# Graded Lab Assignment 2: Evaluate classifiers (10 points)\n",
    " \n",
    "In this assignment you will optimize and compare the perfomance of a parametric (logistic regression) and non-parametric (k-nearest neighbours) classifier on the MNIST dataset.\n",
    "\n",
    "Publish your notebook (ipynb file) to your Machine Learning repository on Github ON TIME. We will check the last commit on the day of the deadline.  \n",
    "\n",
    "### Deadline Friday, November 17, 23:59.\n",
    "\n",
    "This notebook consists of three parts: design, implementation, results & analysis. \n",
    "We provide you with the design of the experiment and you have to implement it and analyse the results.\n",
    "\n",
    "### Criteria used for grading\n",
    "* Explain and analyse all results.\n",
    "* Make your notebook easy to read. When you are finished take your time to review it!\n",
    "* You do not want to repeat the same chunks of code multiply times. If your need to do so, write a function. \n",
    "* The implementation part of this assignment needs careful design before you start coding. You could start by writing pseudocode.\n",
    "* In this exercise the insights are important. Do not hide them somewhere in the comments in the implementation, but put them in the Analysis part\n",
    "* Take care that all the figures and tables are well labeled and numbered so that you can easily refer to them.\n",
    "* A plot should have a title and axes labels.\n",
    "* You may find that not everything is 100% specified in this assignment. That is correct! Like in real life you probably have to make some choices. Motivate your choices.\n"
   ]
  },
  {
   "cell_type": "markdown",
   "metadata": {},
   "source": [
    "### Grading points distribution\n",
    "\n",
    "* Implementation 5 points\n",
    "* Results and analysis 5 points"
   ]
  },
  {
   "cell_type": "markdown",
   "metadata": {},
   "source": [
    "## Design of the experiment"
   ]
  },
  {
   "cell_type": "markdown",
   "metadata": {},
   "source": [
    "You do not have to keep the order of this design and are allowed to alter it if you are confident.\n",
    "* Import all necessary modules. Try to use as much of the available functions as possible. \n",
    "* Use the provided train and test set of MNIST dataset.\n",
    "* Pre-process data eg. normalize/standardize, reformat, etc.           \n",
    "  Do whatever you think is necessary and motivate your choices.\n",
    "* (1) Train logistic regression and k-nn using default settings.\n",
    "* Use 10-fold cross validation for each classifier to optimize the performance for one parameter: \n",
    "    * consult the documentation on how cross validation works in sklearn (important functions:             cross_val_score(), GridSearchCV()).\n",
    "    * Optimize k for k-nn,\n",
    "    * for logistic regression focus on the regularization parameter,\n",
    "* (2) Train logistic regression and k-nn using optimized parameters.\n",
    "* Show performance on the cross-validation set for (1) and (2) for both classifiers: \n",
    "    * report the average cross validation error rates (alternatively, the average accuracies - it's up to you) and standard deviation,\n",
    "    * plot the average cross valildation errors (or accuracies) for different values of the parameter that you tuned. \n",
    "* Compare performance on the test set for two classifiers:\n",
    "    * produce the classification report for both classifiers, consisting of precision, recall, f1-score. Explain and analyse the results.\n",
    "    * print confusion matrix for both classifiers and compare whether they missclassify the same  classes. Explain and analyse the results.\n",
    "* Discuss your results.\n",
    "* BONUS: only continue with this part if you are confident that your implemention is complete \n",
    "    * tune more parameters of logistic regression\n",
    "    * add additional classifiers (NN, Naive Bayes, decision tree), \n",
    "    * analyse additional dataset (ex. Iris dataset)"
   ]
  },
  {
   "cell_type": "markdown",
   "metadata": {},
   "source": [
    "## Implementation of the experiment"
   ]
  },
  {
   "cell_type": "code",
   "execution_count": 135,
   "metadata": {},
   "outputs": [
    {
     "name": "stdout",
     "output_type": "stream",
     "text": [
      "LOGISTIC REGRESSION:\n",
      "Mean CV score for c = 0.01: 0.9515055581180878\n",
      "Mean CV score for c = 0.03: 0.9515145768700769\n",
      "Mean CV score for c = 0.1: 0.9528474263020612\n",
      "Mean CV score for c = 0.3: 0.9455486086698974\n",
      "Mean CV score for c = 0.5: 0.9435213348207057\n",
      "Mean CV score for c = 1: 0.9428419347075195\n",
      "Mean CV score for c = 3: 0.9408908129940696\n",
      "Mean CV score for c = 5: 0.9402091220233819\n",
      "Mean CV score for c = 10: 0.9382305100455823\n",
      "NEAREST NEIGHBOR:\n",
      "average CV score for k = 1: 0.9782262583333683\n",
      "average CV score for k = 2: 0.9735544556751305\n",
      "average CV score for k = 3: 0.9748446332480001\n",
      "average CV score for k = 4: 0.9682561812378208\n",
      "average CV score for k = 5: 0.969568068456703\n",
      "average CV score for k = 6: 0.9688875519608914\n",
      "average CV score for k = 7: 0.9675662891857945\n",
      "average CV score for k = 8: 0.9649161092580446\n",
      "average CV score for k = 9: 0.9636137742114134\n",
      "average CV score for k = 10: 0.9642848546878631\n"
     ]
    },
    {
     "data": {
      "image/png": "[encoded data removed]",
      "text/plain": [
       "<matplotlib.figure.Figure at 0x1a206787f0>"
      ]
     },
     "metadata": {},
     "output_type": "display_data"
    }
   ],
   "source": [
    "#### %pylab inline\n",
    "from sklearn.datasets import load_digits\n",
    "from sklearn import datasets # to load the dataset\n",
    "from sklearn import metrics\n",
    "from sklearn.preprocessing import StandardScaler # to normalize data (NN is very sensitive to this!)\n",
    "from sklearn.model_selection import train_test_split #to split in train and test set\n",
    "from sklearn.linear_model import LogisticRegression #logistic regression classifier\n",
    "from sklearn.neighbors import KNeighborsClassifier\n",
    "from sklearn.neural_network import MLPClassifier # neural network classifier\n",
    "from sklearn.model_selection import cross_val_score #BONUS: to tune parameters using cross-validation\n",
    "import matplotlib.pyplot as plt\n",
    "\n",
    "\n",
    "# load mnist dataset and split in train and test set.\n",
    "digits = load_digits()\n",
    "X_train_mnist = reshape(digits.images[:1500],(1500,64))\n",
    "X_test_mnist = reshape(digits.images[1500:],(297,64))\n",
    "y_train_mnist = digits.target[:1500]\n",
    "y_test_mnist = digits.target[1500:]\n",
    "\n",
    "plt.figure(1)\n",
    "\n",
    "# your implementation here\n",
    "\n",
    "# c = [0.001, 0.005, 0.01, 0.02, 0.03, 0.1, 0.3, 0.5, 1, 3, 5, 10, 100, 1000]\n",
    "\n",
    "def logRegr():\n",
    "    \n",
    "    c = [0.01, 0.03, 0.1, 0.3, 0.5, 1, 3, 5, 10]\n",
    "    scoresArr = []\n",
    "    print('LOGISTIC REGRESSION:')\n",
    "    for reg in c:\n",
    "        # fit a logistic regression model to the data\n",
    "        model = LogisticRegression(C=reg)\n",
    "        model.fit(X_train_mnist, y_train_mnist)\n",
    "        #print(model)\n",
    "        #make predictions\n",
    "        expected = y_test_mnist\n",
    "        predicted = model.predict(X_test_mnist)\n",
    "        #summarize the fit of the model\n",
    "        print(metrics.accuracy_score(expected, predicted))\n",
    "        \n",
    "        cv\n",
    "        scores = cross_val_score(model, X_train_mnist, y_train_mnist, cv=10)\n",
    "        scoresArr.append(scores.mean())\n",
    "        print('Mean CV score for c = {}: {}'.format(reg, scores.mean()))\n",
    "        #print(metrics.confusion_matrix(expected, predicted))\n",
    "    plt.subplot(211)\n",
    "    plt.plot(c, scoresArr)\n",
    "    \n",
    "    \n",
    "def kNearest():\n",
    "    \n",
    "    scaler = StandardScaler()\n",
    "    XTransformTrain = scaler.fit_transform(X_train_mnist, y_train_mnist)\n",
    "    XTransformTest = scaler.fit_transform(X_test_mnist, y_test_mnist)\n",
    "    \n",
    "    kArr = [1,2,3,4,5,6,7,8,9,10]\n",
    "    scoresArrK = []\n",
    "    print('NEAREST NEIGHBOR:')\n",
    "\n",
    "    for k in kArr:\n",
    "        # fit a k-nearest neighbor model to the data\n",
    "        kn = KNeighborsClassifier(n_neighbors=k)\n",
    "        kn.fit(XTransformTrain, y_train_mnist)\n",
    "        # make predictions\n",
    "        expected = y_test_mnist\n",
    "        predicted = kn.predict(XTransformTest)\n",
    "        #print(metrics.accuracy_score(expected, predicted))\n",
    "        scores = cross_val_score(kn, X_train_mnist, y_train_mnist, cv=10)\n",
    "        scoresArrK.append(scores.mean())\n",
    "        print('average CV score for k = {}: {}'.format(k, scores.mean()))\n",
    "    plt.subplot(212)\n",
    "    plt.plot(kArr, scoresArrK)\n",
    "    \n",
    "\n",
    "    \n",
    "logRegr()\n",
    "kNearest()\n",
    "\n",
    "#BONUS\n",
    "\n",
    "\n"
   ]
  },
  {
   "cell_type": "markdown",
   "metadata": {},
   "source": [
    "## Results and analysis of the experiment\n",
    "\n",
    "### 1. The dataset\n",
    "The data I am working on is a MNIST dataset, which consists of 1500 digitized samples of handwritten digits from 0 to 9. Each digit is denoted as an array of 64 digits that translate to brightness of pixels. Bright pixels define the contour of a number - therefore, the brighter the pixel, the higher the chance that it is within the range of a given number.\n",
    "\n",
    "### 2. Classifiers\n",
    "#### 2.1 Logistic Regression\n",
    "#### 2.2 k-Nearest Neighbor\n",
    "\n",
    "### 3. Cross-Validation \n",
    "#### 3.1 Logistic Regression\n",
    "#### 3.2 k-Nearest Neighbor\n",
    "\n",
    "### 4. Performance\n",
    "#### 3.1 Logistic Regression\n",
    "#### 3.2 k-Nearest Neighbor\n",
    "\n",
    "\n"
   ]
  },
  {
   "cell_type": "markdown",
   "metadata": {
    "collapsed": true
   },
   "source": []
  }
 ],
 "metadata": {
  "kernelspec": {
   "display_name": "Python 3",
   "language": "python",
   "name": "python3"
  },
  "language_info": {
   "codemirror_mode": {
    "name": "ipython",
    "version": 3
   },
   "file_extension": ".py",
   "mimetype": "text/x-python",
   "name": "python",
   "nbconvert_exporter": "python",
   "pygments_lexer": "ipython3",
   "version": "3.6.1"
  }
 },
 "nbformat": 4,
 "nbformat_minor": 2
}
