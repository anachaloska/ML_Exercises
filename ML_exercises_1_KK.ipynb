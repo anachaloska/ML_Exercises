{
 "cells": [
  {
   "cell_type": "markdown",
   "metadata": {},
   "source": [
    "# ML#1 Exercises "
   ]
  },
  {
   "cell_type": "markdown",
   "metadata": {},
   "source": [
    "### solutions by Konrad Krawczyk"
   ]
  },
  {
   "cell_type": "code",
   "execution_count": 6,
   "metadata": {},
   "outputs": [
    {
     "name": "stdout",
     "output_type": "stream",
     "text": [
      "Populating the interactive namespace from numpy and matplotlib\n"
     ]
    }
   ],
   "source": [
    "%pylab inline"
   ]
  },
  {
   "cell_type": "code",
   "execution_count": 1,
   "metadata": {},
   "outputs": [
    {
     "name": "stdout",
     "output_type": "stream",
     "text": [
      "[5 7 9]\n"
     ]
    }
   ],
   "source": [
    "\n",
    "import numpy as np\n",
    "a = np.array([1,2,3])\n",
    "b = np.array([4,5,6])\n",
    "print(a+b)"
   ]
  },
  {
   "cell_type": "code",
   "execution_count": 2,
   "metadata": {},
   "outputs": [
    {
     "name": "stdout",
     "output_type": "stream",
     "text": [
      "[ 4 10 18]\n"
     ]
    }
   ],
   "source": [
    "print(a*b)"
   ]
  },
  {
   "cell_type": "code",
   "execution_count": 4,
   "metadata": {},
   "outputs": [
    {
     "name": "stdout",
     "output_type": "stream",
     "text": [
      "31.6666666667\n"
     ]
    }
   ],
   "source": [
    "c = np.array([15,23,57])\n",
    "cSum = np.sum(c)\n",
    "cLen = len(c)\n",
    "cMean = cSum / cLen\n",
    "print(cMean)"
   ]
  },
  {
   "cell_type": "code",
   "execution_count": 8,
   "metadata": {},
   "outputs": [
    {
     "name": "stdout",
     "output_type": "stream",
     "text": [
      "22.3009715782\n"
     ]
    }
   ],
   "source": [
    "def std(arr):\n",
    "    arrMean = np.mean(arr)\n",
    "    arrSq = np.square(arr-arrMean)\n",
    "    arrSum = np.sum(arrSq)\n",
    "    arrNum = arrSum/(len(arr)-1)\n",
    "    arrStd = np.sqrt(arrNum)\n",
    "    print(arrStd)\n",
    "    \n",
    "std(c)"
   ]
  },
  {
   "cell_type": "code",
   "execution_count": 21,
   "metadata": {},
   "outputs": [
    {
     "name": "stdout",
     "output_type": "stream",
     "text": [
      "4032\n"
     ]
    }
   ],
   "source": [
    "d = arange(128) #create an 1-dimensional array of ints from 0 to 127\n",
    "dOdd = d[0:len(d):2] #get even-indexed elements of the array \n",
    "print(np.sum(dOdd)) #sum'em up"
   ]
  },
  {
   "cell_type": "code",
   "execution_count": 23,
   "metadata": {},
   "outputs": [
    {
     "name": "stdout",
     "output_type": "stream",
     "text": [
      "[  0   1   2   3   4   5   6   7   8   9  10  11  12  13  14  15  16  17\n",
      "  18  19  20  21  22  23  24  25  26  27  28  29  30  31  32  33  34  35\n",
      "  36  37  38  39  40  41  42  43  44  45  46  47  48  49  50  51  52  53\n",
      "  54  55  56  57  58  59  60  61  62  63  64  65  66  67  68  69  70  71\n",
      "  72  73  74  75  76  77  78  79  80  81  82  83  84  85  86  87  88  89\n",
      "  90  91  92  93  94  95  96  97  98  99 100 101 102 103 104 105 106 107\n",
      " 108 109 110 111 112 113 114 115 116 117 118 119 120 121 122 123 124 125\n",
      " 126 127 128 129 130 131 132 133 134 135 136 137 138 139 140 141 142 143\n",
      " 144 145 146 147 148 149 150 151 152 153 154 155 156 157 158 159 160 161\n",
      " 162 163 164 165 166 167 168 169 170 171 172 173 174 175 176 177 178 179\n",
      " 180 181 182 183 184 185 186 187 188 189 190 191 192 193 194 195 196 197\n",
      " 198 199 200 201 202 203 204 205 206 207 208 209 210 211 212 213 214 215\n",
      " 216 217 218 219 220 221 222 223 224 225 226 227 228 229 230 231 232 233\n",
      " 234 235 236 237 238 239 240 241 242 243 244 245 246 247 248 249 250 251\n",
      " 252 253 254 255 256 257 258 259 260 261 262 263 264 265 266 267 268 269\n",
      " 270 271 272 273 274 275 276 277 278 279 280 281 282 283 284 285 286 287\n",
      " 288 289 290 291 292 293 294 295 296 297 298 299 300 301 302 303 304 305\n",
      " 306 307 308 309 310 311 312 313 314 315 316 317 318 319 320 321 322 323\n",
      " 324 325 326 327 328 329 330 331 332 333 334 335 336 337 338 339 340 341\n",
      " 342 343 344 345 346 347 348 349 350 351 352 353 354 355 356 357 358 359\n",
      " 360 361 362 363 364 365 366 367 368 369 370 371 372 373 374 375 376 377\n",
      " 378 379 380 381 382 383 384 385 386 387 388 389 390 391 392 393 394 395\n",
      " 396 397 398 399 400 401 402 403 404 405 406 407 408 409 410 411 412 413\n",
      " 414 415 416 417 418 419 420 421 422 423 424 425 426 427 428 429 430 431\n",
      " 432 433 434 435 436 437 438 439 440 441 442 443 444 445 446 447 448 449\n",
      " 450 451 452 453 454 455 456 457 458 459 460 461 462 463 464 465 466 467\n",
      " 468 469 470 471 472 473 474 475 476 477 478 479 480 481 482 483 484 485\n",
      " 486 487 488 489 490 491 492 493 494 495 496 497 498 499 500 501 502 503\n",
      " 504 505 506 507 508 509 510 511]\n"
     ]
    }
   ],
   "source": [
    "e = arange(1024)\n",
    "e = e[0:512:1]\n",
    "print(e)"
   ]
  },
  {
   "cell_type": "code",
   "execution_count": 32,
   "metadata": {},
   "outputs": [
    {
     "name": "stdout",
     "output_type": "stream",
     "text": [
      "[21 22 23 24 25 26 27 28 29 30 31 32 33 34 35 36 37 38 39 40 41]\n"
     ]
    }
   ],
   "source": [
    "#Exercise 6\n",
    "e = arange(1024)\n",
    "e = e[21:42:1]\n",
    "print(e)"
   ]
  },
  {
   "cell_type": "code",
   "execution_count": 36,
   "metadata": {},
   "outputs": [
    {
     "name": "stdout",
     "output_type": "stream",
     "text": [
      "[1019 1016 1012 1009 1006]\n"
     ]
    }
   ],
   "source": [
    "#Exercise 7\n",
    "e = arange(1024)\n",
    "e = e[::-1] ## Reversed to check if it works for sure\n",
    "f = np.array([5,8,12,15,18])\n",
    "g = e[f-1]\n",
    "print(g)"
   ]
  },
  {
   "cell_type": "code",
   "execution_count": 37,
   "metadata": {},
   "outputs": [
    {
     "name": "stdout",
     "output_type": "stream",
     "text": [
      "[127 126 125 124 123 122 121 120 119 118 117 116 115 114 113 112 111 110\n",
      " 109 108 107 106 105 104 103 102 101 100  99  98  97  96  95  94  93  92\n",
      "  91  90  89  88  87  86  85  84  83  82  81  80  79  78  77  76  75  74\n",
      "  73  72  71  70  69  68  67  66  65  64  63  62  61  60  59  58  57  56\n",
      "  55  54  53  52  51  50  49  48  47  46  45  44  43  42  41  40  39  38\n",
      "  37  36  35  34  33  32  31  30  29  28  27  26  25  24  23  22  21  20\n",
      "  19  18  17  16  15  14  13  12  11  10   9   8   7   6   5   4   3   2\n",
      "   1   0]\n"
     ]
    }
   ],
   "source": [
    "#Exercise 8\n",
    "def revArr(rng):\n",
    "    arr = arange(rng)\n",
    "    arr = arr[::-1]\n",
    "    print(arr)\n",
    "    \n",
    "revArr(128)"
   ]
  },
  {
   "cell_type": "code",
   "execution_count": 41,
   "metadata": {},
   "outputs": [
    {
     "name": "stdout",
     "output_type": "stream",
     "text": [
      "[ 0.34429349  0.21518682  0.11159926  0.11754131  0.44596642  0.11886396\n",
      "  0.41910312  0.10455032  0.40630507  0.43617363  0.06212573  0.4287802\n",
      "  0.49734308  0.17299583  0.21723734  0.2702522   0.48622385  0.22295053\n",
      "  0.17552216  0.34900414  0.24668098  0.01160922  0.24154446  0.24363007\n",
      "  0.47046103  0.43172323  0.43915356  0.27559822  0.23257951  0.34699106\n",
      "  0.37608225  0.49844026  0.3654065   0.11217764  0.19844399  0.16921384\n",
      "  0.04738094  0.21757168  0.25200135  0.29515153  0.49564617  0.06776771\n",
      "  0.28155415  0.06093503  0.14464778  0.080772    0.1592508   0.1433811\n",
      "  0.29949373  0.05037588  0.01055938  0.09373932  0.09960988  0.03292911\n",
      "  0.13807824  0.48835606  0.36152656  0.34129996  0.09365663  0.43309358\n",
      "  0.26368802  0.4191634   0.02680676]\n"
     ]
    }
   ],
   "source": [
    "#Exercise 9\n",
    "a = np.random.rand(128)\n",
    "aTrim = a[a<=0.5]\n",
    "print(aTrim)"
   ]
  },
  {
   "cell_type": "code",
   "execution_count": 47,
   "metadata": {},
   "outputs": [
    {
     "name": "stdout",
     "output_type": "stream",
     "text": [
      "[ 0.81226345  0.44281766  0.84395594  0.64736744  0.78582928  0.89623514\n",
      "  0.70207123  0.50143181  0.66102323  0.05796448  0.67900605  0.22363962\n",
      "  0.78149596  0.92136129  0.0151691   0.55091538  0.94509649  0.5511257\n",
      "  0.09072216  0.73359539  0.15456547  0.73255665  0.62052918  0.82826667]\n"
     ]
    }
   ],
   "source": [
    "#Exercise 2.1\n",
    "def getRow(num):\n",
    "    x = np.random.rand(24,24)\n",
    "    print(x[num,:])\n",
    "getRow(10)"
   ]
  },
  {
   "cell_type": "code",
   "execution_count": 73,
   "metadata": {},
   "outputs": [
    {
     "name": "stdout",
     "output_type": "stream",
     "text": [
      "[ 7 15 23]\n"
     ]
    }
   ],
   "source": [
    "#Exercise 2.2\n",
    "def getColumn(col):\n",
    "    a = np.arange(24).reshape((3, 8))\n",
    "    print(a[:,col])\n",
    "getColumn(7)"
   ]
  },
  {
   "cell_type": "code",
   "execution_count": 151,
   "metadata": {},
   "outputs": [
    {
     "name": "stdout",
     "output_type": "stream",
     "text": [
      "[[  0.   1.   2.   3.   4.   5.   6.   7.]\n",
      " [  8.   9.  10.  11.  12.  13.  14.  15.]\n",
      " [ 16.  17.  18.  19.  20.  21.  22.  23.]]\n",
      "[[  8.   9.  10.  11.  12.  13.  14.  15.]]\n"
     ]
    }
   ],
   "source": [
    "#Exercise 2.3\n",
    "a = np.arange(24).reshape((3, 8))\n",
    "a = a.astype(np.float)\n",
    "aMeans = np.mean(a, axis=0).reshape((1,8))\n",
    "print(a)\n",
    "print(aMeans)"
   ]
  },
  {
   "cell_type": "code",
   "execution_count": 152,
   "metadata": {},
   "outputs": [
    {
     "name": "stdout",
     "output_type": "stream",
     "text": [
      "[[-8. -8. -8. -8. -8. -8. -8. -8.]\n",
      " [ 0.  0.  0.  0.  0.  0.  0.  0.]\n",
      " [ 8.  8.  8.  8.  8.  8.  8.  8.]]\n"
     ]
    }
   ],
   "source": [
    "#Exercise 2.4 -- I can't seem to find a solution to this one unfortunately :/\n",
    "#aSbt = a-aMeans\n",
    "#print(aSbt)\n",
    "aSbt = np.subtract(a,aMeans)\n",
    "print(aSbt)"
   ]
  },
  {
   "cell_type": "code",
   "execution_count": 157,
   "metadata": {},
   "outputs": [
    {
     "name": "stdout",
     "output_type": "stream",
     "text": [
      "[[ 0  1  2  3  4  5  6  7  8  9 10 11 12 13 14 15 16 17 18 19 20 21 22 23]]\n",
      "[[ 0]\n",
      " [ 1]\n",
      " [ 2]\n",
      " [ 3]\n",
      " [ 4]\n",
      " [ 5]\n",
      " [ 6]\n",
      " [ 7]\n",
      " [ 8]\n",
      " [ 9]\n",
      " [10]\n",
      " [11]\n",
      " [12]\n",
      " [13]\n",
      " [14]\n",
      " [15]\n",
      " [16]\n",
      " [17]\n",
      " [18]\n",
      " [19]\n",
      " [20]\n",
      " [21]\n",
      " [22]\n",
      " [23]]\n"
     ]
    }
   ],
   "source": [
    "#Exercise 3.1\n",
    "a = np.arange(24).reshape(1,24)\n",
    "print(a)\n",
    "#Exercise 3.2\n",
    "a = np.arange(24).reshape(24,1)\n",
    "print(a)"
   ]
  },
  {
   "cell_type": "code",
   "execution_count": 161,
   "metadata": {},
   "outputs": [
    {
     "name": "stdout",
     "output_type": "stream",
     "text": [
      "[16 17 18 19 20 21 22 23]\n"
     ]
    }
   ],
   "source": [
    "#Exerise 3.3\n",
    "a = np.arange(24).reshape(3,8) #Generate a matrix 3x8\n",
    "print(a[2])\n",
    "#value a[i] returns the i-th feature vector in a matrix. Values from 0 up to number of features -1 (zero-based indexing)"
   ]
  },
  {
   "cell_type": "code",
   "execution_count": 165,
   "metadata": {},
   "outputs": [
    {
     "name": "stdout",
     "output_type": "stream",
     "text": [
      "[[-10 -19  -8 -17  -6]\n",
      " [ -5 -14  -3 -12  -1]\n",
      " [  0  -9   2  -7   4]]\n"
     ]
    }
   ],
   "source": [
    "#Exercise 3.4\n",
    "a = np.arange(15).reshape(3,5)\n",
    "v = np.array([10,20,10,20,10])\n",
    "print(a-v)"
   ]
  },
  {
   "cell_type": "code",
   "execution_count": 169,
   "metadata": {},
   "outputs": [
    {
     "name": "stdout",
     "output_type": "stream",
     "text": [
      "[[-10  -9  -8  -7  -6]\n",
      " [-15 -14 -13 -12 -11]\n",
      " [  0   1   2   3   4]]\n"
     ]
    }
   ],
   "source": [
    "#Exercise 3.5\n",
    "v = np.array([10,20,10]).reshape(3,1)\n",
    "print(a-v)"
   ]
  },
  {
   "cell_type": "code",
   "execution_count": 171,
   "metadata": {},
   "outputs": [
    {
     "name": "stdout",
     "output_type": "stream",
     "text": [
      "120\n"
     ]
    }
   ],
   "source": [
    "#Exercise 4.1\n",
    "f = np.array([4,5,4,5,4])\n",
    "g = np.array([5,6,5,6,5])\n",
    "h = np.inner(f,g)\n",
    "print(h)"
   ]
  },
  {
   "cell_type": "code",
   "execution_count": 173,
   "metadata": {},
   "outputs": [
    {
     "name": "stdout",
     "output_type": "stream",
     "text": [
      "[[ 0  6 10 18 20]\n",
      " [25 36 35 48 45]\n",
      " [50 66 60 78 70]]\n"
     ]
    }
   ],
   "source": [
    "#Exercise 4.2\n",
    "print(a*g)"
   ]
  },
  {
   "cell_type": "code",
   "execution_count": 179,
   "metadata": {},
   "outputs": [
    {
     "name": "stdout",
     "output_type": "stream",
     "text": [
      "[5 6 5 6 5]\n"
     ]
    }
   ],
   "source": [
    "#Exercise 4.3\n",
    "k = np.transpose(g)\n",
    "print(k)\n",
    "#The shape is exactly the same. Am I making a mistake?"
   ]
  },
  {
   "cell_type": "code",
   "execution_count": 188,
   "metadata": {},
   "outputs": [
    {
     "name": "stdout",
     "output_type": "stream",
     "text": [
      "[55 66 77 88 99]\n",
      "[[55 66 77 88 99]]\n"
     ]
    }
   ],
   "source": [
    "A = arange(15).reshape(3,5)\n",
    "v3 = np.array([3,5,3])\n",
    "print(v3@A) #result of v3 @ A\n",
    "v31 = v3.reshape(3,1)\n",
    "#print(v31@A) --- v31 @ A returns an ERROR\n",
    "print(v31.T@A) # therefore, they have to be transpose before operations like this"
   ]
  },
  {
   "cell_type": "code",
   "execution_count": null,
   "metadata": {
    "collapsed": true
   },
   "outputs": [],
   "source": []
  }
 ],
 "metadata": {
  "kernelspec": {
   "display_name": "Python 3",
   "language": "python",
   "name": "python3"
  },
  "language_info": {
   "codemirror_mode": {
    "name": "ipython",
    "version": 3
   },
   "file_extension": ".py",
   "mimetype": "text/x-python",
   "name": "python",
   "nbconvert_exporter": "python",
   "pygments_lexer": "ipython3",
   "version": "3.6.1"
  }
 },
 "nbformat": 4,
 "nbformat_minor": 2
}
